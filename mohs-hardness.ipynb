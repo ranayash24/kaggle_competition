{
 "cells": [
  {
   "cell_type": "code",
   "execution_count": 1,
   "id": "a042a26d",
   "metadata": {
    "_cell_guid": "b1076dfc-b9ad-4769-8c92-a6c4dae69d19",
    "_uuid": "8f2839f25d086af736a60e9eeb907d3b93b6e0e5",
    "execution": {
     "iopub.execute_input": "2023-11-16T06:00:30.543666Z",
     "iopub.status.busy": "2023-11-16T06:00:30.543346Z",
     "iopub.status.idle": "2023-11-16T06:00:31.733913Z",
     "shell.execute_reply": "2023-11-16T06:00:31.732723Z"
    },
    "papermill": {
     "duration": 1.201308,
     "end_time": "2023-11-16T06:00:31.736150",
     "exception": false,
     "start_time": "2023-11-16T06:00:30.534842",
     "status": "completed"
    },
    "tags": []
   },
   "outputs": [
    {
     "name": "stdout",
     "output_type": "stream",
     "text": [
      "/kaggle/input/playground-series-s3e25/sample_submission.csv\n",
      "/kaggle/input/playground-series-s3e25/train.csv\n",
      "/kaggle/input/playground-series-s3e25/test.csv\n"
     ]
    }
   ],
   "source": [
    "# This Python 3 environment comes with many helpful analytics libraries installed\n",
    "# It is defined by the kaggle/python Docker image: https://github.com/kaggle/docker-python\n",
    "# For example, here's several helpful packages to load\n",
    "\n",
    "import numpy as np # linear algebra\n",
    "import pandas as pd # data processing, CSV file I/O (e.g. pd.read_csv)\n",
    "\n",
    "# Input data files are available in the read-only \"../input/\" directory\n",
    "# For example, running this (by clicking run or pressing Shift+Enter) will list all files under the input directory\n",
    "\n",
    "import os\n",
    "for dirname, _, filenames in os.walk('/kaggle/input'):\n",
    "    for filename in filenames:\n",
    "        print(os.path.join(dirname, filename))\n",
    "\n",
    "# You can write up to 20GB to the current directory (/kaggle/working/) that gets preserved as output when you create a version using \"Save & Run All\" \n",
    "# You can also write temporary files to /kaggle/temp/, but they won't be saved outside of the current session"
   ]
  },
  {
   "cell_type": "code",
   "execution_count": 2,
   "id": "5ce868a3",
   "metadata": {
    "execution": {
     "iopub.execute_input": "2023-11-16T06:00:31.751770Z",
     "iopub.status.busy": "2023-11-16T06:00:31.751354Z",
     "iopub.status.idle": "2023-11-16T06:00:33.839370Z",
     "shell.execute_reply": "2023-11-16T06:00:33.838343Z"
    },
    "papermill": {
     "duration": 2.09854,
     "end_time": "2023-11-16T06:00:33.841741",
     "exception": false,
     "start_time": "2023-11-16T06:00:31.743201",
     "status": "completed"
    },
    "tags": []
   },
   "outputs": [
    {
     "name": "stderr",
     "output_type": "stream",
     "text": [
      "/opt/conda/lib/python3.10/site-packages/scipy/__init__.py:146: UserWarning: A NumPy version >=1.16.5 and <1.23.0 is required for this version of SciPy (detected version 1.24.3\n",
      "  warnings.warn(f\"A NumPy version >={np_minversion} and <{np_maxversion}\"\n"
     ]
    }
   ],
   "source": [
    "import seaborn as sns\n",
    "import matplotlib.pyplot as plt\n",
    "from sklearn.model_selection import train_test_split"
   ]
  },
  {
   "cell_type": "code",
   "execution_count": 3,
   "id": "6364fa1d",
   "metadata": {
    "execution": {
     "iopub.execute_input": "2023-11-16T06:00:33.857592Z",
     "iopub.status.busy": "2023-11-16T06:00:33.857067Z",
     "iopub.status.idle": "2023-11-16T06:00:59.841273Z",
     "shell.execute_reply": "2023-11-16T06:00:59.840477Z"
    },
    "papermill": {
     "duration": 25.99455,
     "end_time": "2023-11-16T06:00:59.843694",
     "exception": false,
     "start_time": "2023-11-16T06:00:33.849144",
     "status": "completed"
    },
    "tags": []
   },
   "outputs": [],
   "source": [
    "from lightgbm import LGBMRegressor\n",
    "from xgboost import XGBRegressor\n",
    "from catboost import CatBoostRegressor\n",
    "from sklearn.ensemble import VotingRegressor\n",
    "\n",
    "from sklearn.model_selection import train_test_split\n",
    "from sklearn.metrics import median_absolute_error\n",
    "from sklearn.model_selection import GridSearchCV\n",
    "\n",
    "from sklearn.ensemble import HistGradientBoostingRegressor, AdaBoostRegressor, ExtraTreesRegressor,RandomForestRegressor,BaggingRegressor\n",
    "\n",
    "from sklearn.gaussian_process import GaussianProcessRegressor\n",
    "from sklearn.naive_bayes import GaussianNB\n",
    "from sklearn.neighbors import KNeighborsRegressor\n",
    "from sklearn.svm import SVC\n",
    "\n",
    "import tensorflow as tf\n",
    "import tensorflow_decision_forests as tfdf\n",
    "import tensorflow_probability as tfp"
   ]
  },
  {
   "cell_type": "code",
   "execution_count": 4,
   "id": "b073dab9",
   "metadata": {
    "execution": {
     "iopub.execute_input": "2023-11-16T06:00:59.859068Z",
     "iopub.status.busy": "2023-11-16T06:00:59.858027Z",
     "iopub.status.idle": "2023-11-16T06:00:59.953868Z",
     "shell.execute_reply": "2023-11-16T06:00:59.953020Z"
    },
    "papermill": {
     "duration": 0.10561,
     "end_time": "2023-11-16T06:00:59.956048",
     "exception": false,
     "start_time": "2023-11-16T06:00:59.850438",
     "status": "completed"
    },
    "tags": []
   },
   "outputs": [],
   "source": [
    "#read the csv file\n",
    "df_train = pd.read_csv('/kaggle/input/playground-series-s3e25/train.csv')\n",
    "df_test = pd.read_csv('/kaggle/input/playground-series-s3e25/test.csv')"
   ]
  },
  {
   "cell_type": "code",
   "execution_count": 5,
   "id": "bc04d078",
   "metadata": {
    "execution": {
     "iopub.execute_input": "2023-11-16T06:00:59.979781Z",
     "iopub.status.busy": "2023-11-16T06:00:59.979467Z",
     "iopub.status.idle": "2023-11-16T06:01:00.013037Z",
     "shell.execute_reply": "2023-11-16T06:01:00.012092Z"
    },
    "papermill": {
     "duration": 0.044148,
     "end_time": "2023-11-16T06:01:00.015180",
     "exception": false,
     "start_time": "2023-11-16T06:00:59.971032",
     "status": "completed"
    },
    "tags": []
   },
   "outputs": [
    {
     "data": {
      "text/html": [
       "<div>\n",
       "<style scoped>\n",
       "    .dataframe tbody tr th:only-of-type {\n",
       "        vertical-align: middle;\n",
       "    }\n",
       "\n",
       "    .dataframe tbody tr th {\n",
       "        vertical-align: top;\n",
       "    }\n",
       "\n",
       "    .dataframe thead th {\n",
       "        text-align: right;\n",
       "    }\n",
       "</style>\n",
       "<table border=\"1\" class=\"dataframe\">\n",
       "  <thead>\n",
       "    <tr style=\"text-align: right;\">\n",
       "      <th></th>\n",
       "      <th>id</th>\n",
       "      <th>allelectrons_Total</th>\n",
       "      <th>density_Total</th>\n",
       "      <th>allelectrons_Average</th>\n",
       "      <th>val_e_Average</th>\n",
       "      <th>atomicweight_Average</th>\n",
       "      <th>ionenergy_Average</th>\n",
       "      <th>el_neg_chi_Average</th>\n",
       "      <th>R_vdw_element_Average</th>\n",
       "      <th>R_cov_element_Average</th>\n",
       "      <th>zaratio_Average</th>\n",
       "      <th>density_Average</th>\n",
       "      <th>Hardness</th>\n",
       "    </tr>\n",
       "  </thead>\n",
       "  <tbody>\n",
       "    <tr>\n",
       "      <th>0</th>\n",
       "      <td>0</td>\n",
       "      <td>100.0</td>\n",
       "      <td>0.841611</td>\n",
       "      <td>10.0</td>\n",
       "      <td>4.8</td>\n",
       "      <td>20.612526</td>\n",
       "      <td>11.08810</td>\n",
       "      <td>2.766</td>\n",
       "      <td>1.732</td>\n",
       "      <td>0.860</td>\n",
       "      <td>0.496070</td>\n",
       "      <td>0.91457</td>\n",
       "      <td>6.0</td>\n",
       "    </tr>\n",
       "    <tr>\n",
       "      <th>1</th>\n",
       "      <td>1</td>\n",
       "      <td>100.0</td>\n",
       "      <td>7.558488</td>\n",
       "      <td>10.0</td>\n",
       "      <td>4.8</td>\n",
       "      <td>20.298893</td>\n",
       "      <td>12.04083</td>\n",
       "      <td>2.755</td>\n",
       "      <td>1.631</td>\n",
       "      <td>0.910</td>\n",
       "      <td>0.492719</td>\n",
       "      <td>0.71760</td>\n",
       "      <td>6.5</td>\n",
       "    </tr>\n",
       "    <tr>\n",
       "      <th>2</th>\n",
       "      <td>2</td>\n",
       "      <td>76.0</td>\n",
       "      <td>8.885992</td>\n",
       "      <td>15.6</td>\n",
       "      <td>5.6</td>\n",
       "      <td>33.739258</td>\n",
       "      <td>12.08630</td>\n",
       "      <td>2.828</td>\n",
       "      <td>1.788</td>\n",
       "      <td>0.864</td>\n",
       "      <td>0.481478</td>\n",
       "      <td>1.50633</td>\n",
       "      <td>2.5</td>\n",
       "    </tr>\n",
       "    <tr>\n",
       "      <th>3</th>\n",
       "      <td>3</td>\n",
       "      <td>100.0</td>\n",
       "      <td>8.795296</td>\n",
       "      <td>10.0</td>\n",
       "      <td>4.8</td>\n",
       "      <td>20.213349</td>\n",
       "      <td>10.94850</td>\n",
       "      <td>2.648</td>\n",
       "      <td>1.626</td>\n",
       "      <td>0.936</td>\n",
       "      <td>0.489272</td>\n",
       "      <td>0.78937</td>\n",
       "      <td>6.0</td>\n",
       "    </tr>\n",
       "    <tr>\n",
       "      <th>4</th>\n",
       "      <td>4</td>\n",
       "      <td>116.0</td>\n",
       "      <td>9.577996</td>\n",
       "      <td>11.6</td>\n",
       "      <td>4.8</td>\n",
       "      <td>24.988133</td>\n",
       "      <td>11.82448</td>\n",
       "      <td>2.766</td>\n",
       "      <td>1.682</td>\n",
       "      <td>0.896</td>\n",
       "      <td>0.492736</td>\n",
       "      <td>1.86481</td>\n",
       "      <td>6.0</td>\n",
       "    </tr>\n",
       "  </tbody>\n",
       "</table>\n",
       "</div>"
      ],
      "text/plain": [
       "   id  allelectrons_Total  density_Total  allelectrons_Average  val_e_Average  \\\n",
       "0   0               100.0       0.841611                  10.0            4.8   \n",
       "1   1               100.0       7.558488                  10.0            4.8   \n",
       "2   2                76.0       8.885992                  15.6            5.6   \n",
       "3   3               100.0       8.795296                  10.0            4.8   \n",
       "4   4               116.0       9.577996                  11.6            4.8   \n",
       "\n",
       "   atomicweight_Average  ionenergy_Average  el_neg_chi_Average  \\\n",
       "0             20.612526           11.08810               2.766   \n",
       "1             20.298893           12.04083               2.755   \n",
       "2             33.739258           12.08630               2.828   \n",
       "3             20.213349           10.94850               2.648   \n",
       "4             24.988133           11.82448               2.766   \n",
       "\n",
       "   R_vdw_element_Average  R_cov_element_Average  zaratio_Average  \\\n",
       "0                  1.732                  0.860         0.496070   \n",
       "1                  1.631                  0.910         0.492719   \n",
       "2                  1.788                  0.864         0.481478   \n",
       "3                  1.626                  0.936         0.489272   \n",
       "4                  1.682                  0.896         0.492736   \n",
       "\n",
       "   density_Average  Hardness  \n",
       "0          0.91457       6.0  \n",
       "1          0.71760       6.5  \n",
       "2          1.50633       2.5  \n",
       "3          0.78937       6.0  \n",
       "4          1.86481       6.0  "
      ]
     },
     "execution_count": 5,
     "metadata": {},
     "output_type": "execute_result"
    }
   ],
   "source": [
    "df_train.head(5)"
   ]
  },
  {
   "cell_type": "code",
   "execution_count": 6,
   "id": "49421687",
   "metadata": {
    "execution": {
     "iopub.execute_input": "2023-11-16T06:01:00.029569Z",
     "iopub.status.busy": "2023-11-16T06:01:00.029286Z",
     "iopub.status.idle": "2023-11-16T06:01:00.058822Z",
     "shell.execute_reply": "2023-11-16T06:01:00.057632Z"
    },
    "papermill": {
     "duration": 0.039065,
     "end_time": "2023-11-16T06:01:00.060921",
     "exception": false,
     "start_time": "2023-11-16T06:01:00.021856",
     "status": "completed"
    },
    "tags": []
   },
   "outputs": [
    {
     "name": "stdout",
     "output_type": "stream",
     "text": [
      "<class 'pandas.core.frame.DataFrame'>\n",
      "RangeIndex: 10407 entries, 0 to 10406\n",
      "Data columns (total 13 columns):\n",
      " #   Column                 Non-Null Count  Dtype  \n",
      "---  ------                 --------------  -----  \n",
      " 0   id                     10407 non-null  int64  \n",
      " 1   allelectrons_Total     10407 non-null  float64\n",
      " 2   density_Total          10407 non-null  float64\n",
      " 3   allelectrons_Average   10407 non-null  float64\n",
      " 4   val_e_Average          10407 non-null  float64\n",
      " 5   atomicweight_Average   10407 non-null  float64\n",
      " 6   ionenergy_Average      10407 non-null  float64\n",
      " 7   el_neg_chi_Average     10407 non-null  float64\n",
      " 8   R_vdw_element_Average  10407 non-null  float64\n",
      " 9   R_cov_element_Average  10407 non-null  float64\n",
      " 10  zaratio_Average        10407 non-null  float64\n",
      " 11  density_Average        10407 non-null  float64\n",
      " 12  Hardness               10407 non-null  float64\n",
      "dtypes: float64(12), int64(1)\n",
      "memory usage: 1.0 MB\n"
     ]
    }
   ],
   "source": [
    "df_train.info()"
   ]
  },
  {
   "cell_type": "code",
   "execution_count": 7,
   "id": "4531a902",
   "metadata": {
    "execution": {
     "iopub.execute_input": "2023-11-16T06:01:00.077787Z",
     "iopub.status.busy": "2023-11-16T06:01:00.077514Z",
     "iopub.status.idle": "2023-11-16T06:01:00.088452Z",
     "shell.execute_reply": "2023-11-16T06:01:00.087272Z"
    },
    "papermill": {
     "duration": 0.021133,
     "end_time": "2023-11-16T06:01:00.090560",
     "exception": false,
     "start_time": "2023-11-16T06:01:00.069427",
     "status": "completed"
    },
    "tags": []
   },
   "outputs": [
    {
     "name": "stdout",
     "output_type": "stream",
     "text": [
      "<class 'pandas.core.frame.DataFrame'>\n",
      "RangeIndex: 6939 entries, 0 to 6938\n",
      "Data columns (total 12 columns):\n",
      " #   Column                 Non-Null Count  Dtype  \n",
      "---  ------                 --------------  -----  \n",
      " 0   id                     6939 non-null   int64  \n",
      " 1   allelectrons_Total     6939 non-null   float64\n",
      " 2   density_Total          6939 non-null   float64\n",
      " 3   allelectrons_Average   6939 non-null   float64\n",
      " 4   val_e_Average          6939 non-null   float64\n",
      " 5   atomicweight_Average   6939 non-null   float64\n",
      " 6   ionenergy_Average      6939 non-null   float64\n",
      " 7   el_neg_chi_Average     6939 non-null   float64\n",
      " 8   R_vdw_element_Average  6939 non-null   float64\n",
      " 9   R_cov_element_Average  6939 non-null   float64\n",
      " 10  zaratio_Average        6939 non-null   float64\n",
      " 11  density_Average        6939 non-null   float64\n",
      "dtypes: float64(11), int64(1)\n",
      "memory usage: 650.7 KB\n"
     ]
    }
   ],
   "source": [
    "df_test.info()"
   ]
  },
  {
   "cell_type": "code",
   "execution_count": 8,
   "id": "fdacd9fb",
   "metadata": {
    "execution": {
     "iopub.execute_input": "2023-11-16T06:01:00.106261Z",
     "iopub.status.busy": "2023-11-16T06:01:00.105983Z",
     "iopub.status.idle": "2023-11-16T06:01:00.511774Z",
     "shell.execute_reply": "2023-11-16T06:01:00.510664Z"
    },
    "papermill": {
     "duration": 0.415962,
     "end_time": "2023-11-16T06:01:00.513946",
     "exception": false,
     "start_time": "2023-11-16T06:01:00.097984",
     "status": "completed"
    },
    "tags": []
   },
   "outputs": [
    {
     "name": "stderr",
     "output_type": "stream",
     "text": [
      "/opt/conda/lib/python3.10/site-packages/seaborn/_oldcore.py:1498: FutureWarning: is_categorical_dtype is deprecated and will be removed in a future version. Use isinstance(dtype, CategoricalDtype) instead\n",
      "  if pd.api.types.is_categorical_dtype(vector):\n",
      "/opt/conda/lib/python3.10/site-packages/seaborn/_oldcore.py:1119: FutureWarning: use_inf_as_na option is deprecated and will be removed in a future version. Convert inf values to NaN before operating instead.\n",
      "  with pd.option_context('mode.use_inf_as_na', True):\n"
     ]
    },
    {
     "data": {
      "text/plain": [
       "<Axes: xlabel='Hardness', ylabel='Count'>"
      ]
     },
     "execution_count": 8,
     "metadata": {},
     "output_type": "execute_result"
    },
    {
     "data": {
      "image/png": "[encoded data removed]",
      "text/plain": [
       "<Figure size 640x480 with 1 Axes>"
      ]
     },
     "metadata": {},
     "output_type": "display_data"
    }
   ],
   "source": [
    "sns.histplot(df_train.Hardness,color='green')"
   ]
  },
  {
   "cell_type": "code",
   "execution_count": 9,
   "id": "31877cd6",
   "metadata": {
    "execution": {
     "iopub.execute_input": "2023-11-16T06:01:00.530642Z",
     "iopub.status.busy": "2023-11-16T06:01:00.530298Z",
     "iopub.status.idle": "2023-11-16T06:01:01.696796Z",
     "shell.execute_reply": "2023-11-16T06:01:01.695688Z"
    },
    "papermill": {
     "duration": 1.181403,
     "end_time": "2023-11-16T06:01:01.703104",
     "exception": false,
     "start_time": "2023-11-16T06:01:00.521701",
     "status": "completed"
    },
    "tags": []
   },
   "outputs": [
    {
     "data": {
      "text/plain": [
       "<Axes: >"
      ]
     },
     "execution_count": 9,
     "metadata": {},
     "output_type": "execute_result"
    },
    {
     "data": {
      "image/png": "[encoded data removed]",
      "text/plain": [
       "<Figure size 800x800 with 2 Axes>"
      ]
     },
     "metadata": {},
     "output_type": "display_data"
    }
   ],
   "source": [
    "plt.figure(figsize =(8,8))\n",
    "cor_matrix = df_train.drop(columns=['id']).corr()\n",
    "sns.heatmap(cor_matrix, annot= True,cmap= 'YlGnBu')"
   ]
  },
  {
   "cell_type": "code",
   "execution_count": 10,
   "id": "56c12db4",
   "metadata": {
    "execution": {
     "iopub.execute_input": "2023-11-16T06:01:01.737166Z",
     "iopub.status.busy": "2023-11-16T06:01:01.736544Z",
     "iopub.status.idle": "2023-11-16T06:01:01.743097Z",
     "shell.execute_reply": "2023-11-16T06:01:01.742049Z"
    },
    "papermill": {
     "duration": 0.025629,
     "end_time": "2023-11-16T06:01:01.745487",
     "exception": false,
     "start_time": "2023-11-16T06:01:01.719858",
     "status": "completed"
    },
    "tags": []
   },
   "outputs": [],
   "source": [
    "features = ['allelectrons_Total', 'density_Total', 'allelectrons_Average',\n",
    "            'val_e_Average', 'atomicweight_Average', 'ionenergy_Average',\n",
    "            'el_neg_chi_Average', 'R_vdw_element_Average', 'R_cov_element_Average',\n",
    "            'zaratio_Average', 'density_Average', 'Hardness']"
   ]
  },
  {
   "cell_type": "code",
   "execution_count": 11,
   "id": "0cf2c62b",
   "metadata": {
    "execution": {
     "iopub.execute_input": "2023-11-16T06:01:01.769499Z",
     "iopub.status.busy": "2023-11-16T06:01:01.769151Z",
     "iopub.status.idle": "2023-11-16T06:01:01.775984Z",
     "shell.execute_reply": "2023-11-16T06:01:01.775123Z"
    },
    "papermill": {
     "duration": 0.021494,
     "end_time": "2023-11-16T06:01:01.778130",
     "exception": false,
     "start_time": "2023-11-16T06:01:01.756636",
     "status": "completed"
    },
    "tags": []
   },
   "outputs": [],
   "source": [
    "X= df_train[features].drop(columns = 'Hardness')\n",
    "y= df_train.Hardness"
   ]
  },
  {
   "cell_type": "code",
   "execution_count": 12,
   "id": "d956384a",
   "metadata": {
    "execution": {
     "iopub.execute_input": "2023-11-16T06:01:01.801811Z",
     "iopub.status.busy": "2023-11-16T06:01:01.801151Z",
     "iopub.status.idle": "2023-11-16T06:01:01.809156Z",
     "shell.execute_reply": "2023-11-16T06:01:01.808350Z"
    },
    "papermill": {
     "duration": 0.022006,
     "end_time": "2023-11-16T06:01:01.811276",
     "exception": false,
     "start_time": "2023-11-16T06:01:01.789270",
     "status": "completed"
    },
    "tags": []
   },
   "outputs": [],
   "source": [
    "X_train, X_test, y_train, y_test = train_test_split(X,y , test_size=0.25, random_state=42)"
   ]
  },
  {
   "cell_type": "code",
   "execution_count": 13,
   "id": "830054f0",
   "metadata": {
    "execution": {
     "iopub.execute_input": "2023-11-16T06:01:01.834558Z",
     "iopub.status.busy": "2023-11-16T06:01:01.834201Z",
     "iopub.status.idle": "2023-11-16T06:01:01.840207Z",
     "shell.execute_reply": "2023-11-16T06:01:01.839340Z"
    },
    "papermill": {
     "duration": 0.020219,
     "end_time": "2023-11-16T06:01:01.842491",
     "exception": false,
     "start_time": "2023-11-16T06:01:01.822272",
     "status": "completed"
    },
    "tags": []
   },
   "outputs": [],
   "source": [
    "hgb_params = {\n",
    "    'learning_rate': 0.1, \n",
    "    'loss': 'absolute_error', \n",
    "    'max_depth': None, \n",
    "    'max_iter': 100, \n",
    "    'max_leaf_nodes': 35\n",
    "}\n",
    "\n",
    "rf_params = {\n",
    "    'max_depth': None, \n",
    "    'max_leaf_nodes': None, \n",
    "    'min_samples_leaf': 2, \n",
    "    'min_samples_split': 2, \n",
    "    'n_estimators': 150,\n",
    "    'criterion': 'absolute_error'\n",
    "}\n",
    "\n",
    "cb_params = {\n",
    "    'verbose': 0, \n",
    "    'loss_function': 'MAE', \n",
    "    'l2_leaf_reg': 0.4, \n",
    "    'iterations': 1200\n",
    "}"
   ]
  },
  {
   "cell_type": "code",
   "execution_count": 14,
   "id": "2a06932a",
   "metadata": {
    "execution": {
     "iopub.execute_input": "2023-11-16T06:01:01.867447Z",
     "iopub.status.busy": "2023-11-16T06:01:01.866547Z",
     "iopub.status.idle": "2023-11-16T06:01:02.124114Z",
     "shell.execute_reply": "2023-11-16T06:01:02.123215Z"
    },
    "papermill": {
     "duration": 0.272292,
     "end_time": "2023-11-16T06:01:02.126725",
     "exception": false,
     "start_time": "2023-11-16T06:01:01.854433",
     "status": "completed"
    },
    "tags": []
   },
   "outputs": [],
   "source": [
    "model_pre = LGBMRegressor()\n",
    "# model_pre = HistGradientBoostingRegressor(**hgb_params)\n",
    "model_pre.fit(X, y)\n",
    "X_new = X.copy()\n",
    "X_new['Hardness_pred'] = model_pre.predict(X)"
   ]
  },
  {
   "cell_type": "code",
   "execution_count": 15,
   "id": "ec702916",
   "metadata": {
    "execution": {
     "iopub.execute_input": "2023-11-16T06:01:02.153259Z",
     "iopub.status.busy": "2023-11-16T06:01:02.152609Z",
     "iopub.status.idle": "2023-11-16T06:01:02.158904Z",
     "shell.execute_reply": "2023-11-16T06:01:02.157958Z"
    },
    "papermill": {
     "duration": 0.021295,
     "end_time": "2023-11-16T06:01:02.161330",
     "exception": false,
     "start_time": "2023-11-16T06:01:02.140035",
     "status": "completed"
    },
    "tags": []
   },
   "outputs": [],
   "source": [
    "def loss_fn(y_true, y_pred):\n",
    "    return tfp.stats.percentile(tf.abs(y_true - y_pred), q=50)\n",
    "\n",
    "def metric_fn(y_true, y_pred):\n",
    "    return tfp.stats.percentile(tf.abs(y_true - y_pred), q=100) - tfp.stats.percentile(tf.abs(y_true - y_pred), q=0)"
   ]
  },
  {
   "cell_type": "code",
   "execution_count": 16,
   "id": "3f2e7e5d",
   "metadata": {
    "execution": {
     "iopub.execute_input": "2023-11-16T06:01:02.183989Z",
     "iopub.status.busy": "2023-11-16T06:01:02.183668Z",
     "iopub.status.idle": "2023-11-16T06:01:02.188699Z",
     "shell.execute_reply": "2023-11-16T06:01:02.187662Z"
    },
    "papermill": {
     "duration": 0.018742,
     "end_time": "2023-11-16T06:01:02.190947",
     "exception": false,
     "start_time": "2023-11-16T06:01:02.172205",
     "status": "completed"
    },
    "tags": []
   },
   "outputs": [],
   "source": [
    "callbacks_list = [\n",
    "    tf.keras.callbacks.EarlyStopping(\n",
    "        monitor='val_loss', \n",
    "        patience=10, \n",
    "        restore_best_weights=True)\n",
    "] "
   ]
  },
  {
   "cell_type": "code",
   "execution_count": 17,
   "id": "cc04136e",
   "metadata": {
    "execution": {
     "iopub.execute_input": "2023-11-16T06:01:02.214617Z",
     "iopub.status.busy": "2023-11-16T06:01:02.214298Z",
     "iopub.status.idle": "2023-11-16T06:01:02.220916Z",
     "shell.execute_reply": "2023-11-16T06:01:02.219972Z"
    },
    "papermill": {
     "duration": 0.020815,
     "end_time": "2023-11-16T06:01:02.223030",
     "exception": false,
     "start_time": "2023-11-16T06:01:02.202215",
     "status": "completed"
    },
    "tags": []
   },
   "outputs": [
    {
     "data": {
      "text/plain": [
       "['allelectrons_Total',\n",
       " 'density_Total',\n",
       " 'allelectrons_Average',\n",
       " 'val_e_Average',\n",
       " 'atomicweight_Average',\n",
       " 'ionenergy_Average',\n",
       " 'el_neg_chi_Average',\n",
       " 'R_vdw_element_Average',\n",
       " 'R_cov_element_Average',\n",
       " 'zaratio_Average',\n",
       " 'density_Average']"
      ]
     },
     "execution_count": 17,
     "metadata": {},
     "output_type": "execute_result"
    }
   ],
   "source": [
    "model_pre.feature_name_\n"
   ]
  },
  {
   "cell_type": "code",
   "execution_count": 18,
   "id": "d1a58530",
   "metadata": {
    "execution": {
     "iopub.execute_input": "2023-11-16T06:01:02.250876Z",
     "iopub.status.busy": "2023-11-16T06:01:02.250548Z",
     "iopub.status.idle": "2023-11-16T06:02:12.389824Z",
     "shell.execute_reply": "2023-11-16T06:02:12.388711Z"
    },
    "papermill": {
     "duration": 70.154102,
     "end_time": "2023-11-16T06:02:12.392078",
     "exception": false,
     "start_time": "2023-11-16T06:01:02.237976",
     "status": "completed"
    },
    "tags": []
   },
   "outputs": [
    {
     "name": "stdout",
     "output_type": "stream",
     "text": [
      "Epoch 1/100\n",
      "261/261 [==============================] - 9s 6ms/step - loss: 2.4675 - metric_fn: 4.8530 - val_loss: 1.7732 - val_metric_fn: 4.5796\n",
      "Epoch 2/100\n",
      "261/261 [==============================] - 1s 5ms/step - loss: 0.8981 - metric_fn: 3.5439 - val_loss: 0.8686 - val_metric_fn: 3.2567\n",
      "Epoch 3/100\n",
      "261/261 [==============================] - 1s 5ms/step - loss: 0.8407 - metric_fn: 3.3722 - val_loss: 0.7198 - val_metric_fn: 3.1935\n",
      "Epoch 4/100\n",
      "261/261 [==============================] - 1s 5ms/step - loss: 0.7979 - metric_fn: 3.2253 - val_loss: 0.6839 - val_metric_fn: 3.1748\n",
      "Epoch 5/100\n",
      "261/261 [==============================] - 1s 5ms/step - loss: 0.7703 - metric_fn: 3.1902 - val_loss: 0.6387 - val_metric_fn: 2.8888\n",
      "Epoch 6/100\n",
      "261/261 [==============================] - 1s 5ms/step - loss: 0.7314 - metric_fn: 3.0722 - val_loss: 0.6536 - val_metric_fn: 2.9899\n",
      "Epoch 7/100\n",
      "261/261 [==============================] - 1s 5ms/step - loss: 0.7251 - metric_fn: 2.9912 - val_loss: 0.6347 - val_metric_fn: 2.8797\n",
      "Epoch 8/100\n",
      "261/261 [==============================] - 1s 5ms/step - loss: 0.6782 - metric_fn: 2.9775 - val_loss: 0.5739 - val_metric_fn: 2.8731\n",
      "Epoch 9/100\n",
      "261/261 [==============================] - 1s 5ms/step - loss: 0.6769 - metric_fn: 2.9897 - val_loss: 0.5882 - val_metric_fn: 2.8174\n",
      "Epoch 10/100\n",
      "261/261 [==============================] - 1s 5ms/step - loss: 0.6539 - metric_fn: 2.8661 - val_loss: 0.5798 - val_metric_fn: 2.8129\n",
      "Epoch 11/100\n",
      "261/261 [==============================] - 1s 5ms/step - loss: 0.6731 - metric_fn: 2.9558 - val_loss: 0.5965 - val_metric_fn: 2.9124\n",
      "Epoch 12/100\n",
      "261/261 [==============================] - 1s 5ms/step - loss: 0.6444 - metric_fn: 2.9225 - val_loss: 0.5615 - val_metric_fn: 2.7614\n",
      "Epoch 13/100\n",
      "261/261 [==============================] - 1s 5ms/step - loss: 0.6398 - metric_fn: 2.9556 - val_loss: 0.5652 - val_metric_fn: 2.8521\n",
      "Epoch 14/100\n",
      "261/261 [==============================] - 1s 5ms/step - loss: 0.6270 - metric_fn: 2.9157 - val_loss: 0.5383 - val_metric_fn: 2.8110\n",
      "Epoch 15/100\n",
      "261/261 [==============================] - 1s 5ms/step - loss: 0.6118 - metric_fn: 2.8894 - val_loss: 0.5596 - val_metric_fn: 2.8185\n",
      "Epoch 16/100\n",
      "261/261 [==============================] - 1s 5ms/step - loss: 0.6287 - metric_fn: 2.8465 - val_loss: 0.5907 - val_metric_fn: 2.7931\n",
      "Epoch 17/100\n",
      "261/261 [==============================] - 1s 5ms/step - loss: 0.6046 - metric_fn: 2.8323 - val_loss: 0.5364 - val_metric_fn: 2.9225\n",
      "Epoch 18/100\n",
      "261/261 [==============================] - 1s 5ms/step - loss: 0.5851 - metric_fn: 2.9461 - val_loss: 0.5378 - val_metric_fn: 2.9554\n",
      "Epoch 19/100\n",
      "261/261 [==============================] - 1s 5ms/step - loss: 0.6008 - metric_fn: 2.9215 - val_loss: 0.5203 - val_metric_fn: 2.8758\n",
      "Epoch 20/100\n",
      "261/261 [==============================] - 1s 5ms/step - loss: 0.5887 - metric_fn: 2.9868 - val_loss: 0.5273 - val_metric_fn: 2.8701\n",
      "Epoch 21/100\n",
      "261/261 [==============================] - 1s 5ms/step - loss: 0.6184 - metric_fn: 2.8853 - val_loss: 0.5914 - val_metric_fn: 2.9123\n",
      "Epoch 22/100\n",
      "261/261 [==============================] - 1s 5ms/step - loss: 0.5671 - metric_fn: 2.9234 - val_loss: 0.5166 - val_metric_fn: 2.9132\n",
      "Epoch 23/100\n",
      "261/261 [==============================] - 1s 5ms/step - loss: 0.5755 - metric_fn: 2.9569 - val_loss: 0.5225 - val_metric_fn: 2.9440\n",
      "Epoch 24/100\n",
      "261/261 [==============================] - 1s 5ms/step - loss: 0.6019 - metric_fn: 2.9757 - val_loss: 0.5272 - val_metric_fn: 2.8798\n",
      "Epoch 25/100\n",
      "261/261 [==============================] - 1s 5ms/step - loss: 0.5604 - metric_fn: 2.8929 - val_loss: 0.5993 - val_metric_fn: 2.8584\n",
      "Epoch 26/100\n",
      "261/261 [==============================] - 1s 5ms/step - loss: 0.5576 - metric_fn: 2.9224 - val_loss: 0.4924 - val_metric_fn: 2.9457\n",
      "Epoch 27/100\n",
      "261/261 [==============================] - 1s 5ms/step - loss: 0.5506 - metric_fn: 2.9456 - val_loss: 0.5217 - val_metric_fn: 2.9091\n",
      "Epoch 28/100\n",
      "261/261 [==============================] - 1s 5ms/step - loss: 0.5683 - metric_fn: 2.9609 - val_loss: 0.4896 - val_metric_fn: 2.8278\n",
      "Epoch 29/100\n",
      "261/261 [==============================] - 1s 5ms/step - loss: 0.5548 - metric_fn: 2.9559 - val_loss: 0.5100 - val_metric_fn: 2.8861\n",
      "Epoch 30/100\n",
      "261/261 [==============================] - 1s 5ms/step - loss: 0.5530 - metric_fn: 2.8833 - val_loss: 0.4779 - val_metric_fn: 2.8308\n",
      "Epoch 31/100\n",
      "261/261 [==============================] - 1s 5ms/step - loss: 0.5407 - metric_fn: 2.9510 - val_loss: 0.5000 - val_metric_fn: 2.9243\n",
      "Epoch 32/100\n",
      "261/261 [==============================] - 1s 5ms/step - loss: 0.5617 - metric_fn: 2.9943 - val_loss: 0.5058 - val_metric_fn: 2.9332\n",
      "Epoch 33/100\n",
      "261/261 [==============================] - 1s 5ms/step - loss: 0.5366 - metric_fn: 3.0045 - val_loss: 0.5483 - val_metric_fn: 2.9078\n",
      "Epoch 34/100\n",
      "261/261 [==============================] - 1s 5ms/step - loss: 0.5410 - metric_fn: 3.0097 - val_loss: 0.5220 - val_metric_fn: 2.9514\n",
      "Epoch 35/100\n",
      "261/261 [==============================] - 1s 5ms/step - loss: 0.5499 - metric_fn: 3.0122 - val_loss: 0.5157 - val_metric_fn: 3.0506\n",
      "Epoch 36/100\n",
      "261/261 [==============================] - 1s 5ms/step - loss: 0.5282 - metric_fn: 3.0144 - val_loss: 0.4579 - val_metric_fn: 3.0290\n",
      "Epoch 37/100\n",
      "261/261 [==============================] - 1s 5ms/step - loss: 0.5321 - metric_fn: 3.0827 - val_loss: 0.4695 - val_metric_fn: 3.1530\n",
      "Epoch 38/100\n",
      "261/261 [==============================] - 1s 5ms/step - loss: 0.5277 - metric_fn: 3.0705 - val_loss: 0.4756 - val_metric_fn: 3.2316\n",
      "Epoch 39/100\n",
      "261/261 [==============================] - 1s 5ms/step - loss: 0.5207 - metric_fn: 3.0542 - val_loss: 0.4932 - val_metric_fn: 3.1281\n",
      "Epoch 40/100\n",
      "261/261 [==============================] - 1s 5ms/step - loss: 0.5253 - metric_fn: 3.1009 - val_loss: 0.4865 - val_metric_fn: 3.1877\n",
      "Epoch 41/100\n",
      "261/261 [==============================] - 1s 5ms/step - loss: 0.5109 - metric_fn: 3.1006 - val_loss: 0.4683 - val_metric_fn: 3.1009\n",
      "Epoch 42/100\n",
      "261/261 [==============================] - 1s 5ms/step - loss: 0.5092 - metric_fn: 3.0686 - val_loss: 0.4830 - val_metric_fn: 3.0965\n",
      "Epoch 43/100\n",
      "261/261 [==============================] - 1s 5ms/step - loss: 0.5171 - metric_fn: 3.1462 - val_loss: 0.4665 - val_metric_fn: 3.1058\n",
      "Epoch 44/100\n",
      "261/261 [==============================] - 1s 5ms/step - loss: 0.5014 - metric_fn: 3.1118 - val_loss: 0.4600 - val_metric_fn: 3.0625\n",
      "Epoch 45/100\n",
      "261/261 [==============================] - 1s 5ms/step - loss: 0.5021 - metric_fn: 3.1300 - val_loss: 0.6294 - val_metric_fn: 3.0035\n",
      "Epoch 46/100\n",
      "261/261 [==============================] - 1s 5ms/step - loss: 0.5022 - metric_fn: 3.0838 - val_loss: 0.4734 - val_metric_fn: 3.0606\n"
     ]
    }
   ],
   "source": [
    "def create_model():\n",
    "    \n",
    "    input_layer = tf.keras.Input(shape=(len(features)-1+1, ))\n",
    "    \n",
    "    x = tf.keras.layers.BatchNormalization()(input_layer)\n",
    "    x = tf.keras.layers.Dense(16, activation='relu')(x)\n",
    "    x = tf.keras.layers.Dense(32, activation='relu')(x)\n",
    "#     x = tf.keras.layers.Dense(64, activation='relu')(x)\n",
    "#     x = tf.keras.layers.Dropout(0.4)(x)\n",
    "    \n",
    "    output_layer = tf.keras.layers.Dense(1)(x)    \n",
    "    \n",
    "    model = tf.keras.Model(inputs=input_layer, outputs=output_layer)\n",
    "    \n",
    "    model.compile(optimizer=tf.keras.optimizers.Adam(),\n",
    "                  loss=loss_fn,\n",
    "                  metrics=metric_fn)\n",
    "    \n",
    "    return model\n",
    "\n",
    "model = create_model()\n",
    "history = model.fit(X_new, y,\n",
    "                    epochs=100,\n",
    "#                     batch_size=64,\n",
    "                    class_weight=model_pre.class_weight,\n",
    "                    callbacks=callbacks_list,\n",
    "                    validation_split=0.2)"
   ]
  },
  {
   "cell_type": "code",
   "execution_count": 19,
   "id": "83b56d94",
   "metadata": {
    "execution": {
     "iopub.execute_input": "2023-11-16T06:02:12.620016Z",
     "iopub.status.busy": "2023-11-16T06:02:12.619131Z",
     "iopub.status.idle": "2023-11-16T06:02:12.654499Z",
     "shell.execute_reply": "2023-11-16T06:02:12.653698Z"
    },
    "papermill": {
     "duration": 0.129318,
     "end_time": "2023-11-16T06:02:12.656393",
     "exception": false,
     "start_time": "2023-11-16T06:02:12.527075",
     "status": "completed"
    },
    "tags": []
   },
   "outputs": [],
   "source": [
    "sample_submission = pd.read_csv('/kaggle/input/playground-series-s3e25/sample_submission.csv')\n",
    "test_dataset = pd.read_csv('/kaggle/input/playground-series-s3e25/test.csv')"
   ]
  },
  {
   "cell_type": "code",
   "execution_count": 20,
   "id": "51d9c4ad",
   "metadata": {
    "execution": {
     "iopub.execute_input": "2023-11-16T06:02:12.839655Z",
     "iopub.status.busy": "2023-11-16T06:02:12.839050Z",
     "iopub.status.idle": "2023-11-16T06:02:12.850505Z",
     "shell.execute_reply": "2023-11-16T06:02:12.849558Z"
    },
    "papermill": {
     "duration": 0.105261,
     "end_time": "2023-11-16T06:02:12.852720",
     "exception": false,
     "start_time": "2023-11-16T06:02:12.747459",
     "status": "completed"
    },
    "tags": []
   },
   "outputs": [
    {
     "data": {
      "text/html": [
       "<div>\n",
       "<style scoped>\n",
       "    .dataframe tbody tr th:only-of-type {\n",
       "        vertical-align: middle;\n",
       "    }\n",
       "\n",
       "    .dataframe tbody tr th {\n",
       "        vertical-align: top;\n",
       "    }\n",
       "\n",
       "    .dataframe thead th {\n",
       "        text-align: right;\n",
       "    }\n",
       "</style>\n",
       "<table border=\"1\" class=\"dataframe\">\n",
       "  <thead>\n",
       "    <tr style=\"text-align: right;\">\n",
       "      <th></th>\n",
       "      <th>id</th>\n",
       "      <th>Hardness</th>\n",
       "    </tr>\n",
       "  </thead>\n",
       "  <tbody>\n",
       "    <tr>\n",
       "      <th>0</th>\n",
       "      <td>10407</td>\n",
       "      <td>4.647</td>\n",
       "    </tr>\n",
       "    <tr>\n",
       "      <th>1</th>\n",
       "      <td>10408</td>\n",
       "      <td>4.647</td>\n",
       "    </tr>\n",
       "    <tr>\n",
       "      <th>2</th>\n",
       "      <td>10409</td>\n",
       "      <td>4.647</td>\n",
       "    </tr>\n",
       "    <tr>\n",
       "      <th>3</th>\n",
       "      <td>10410</td>\n",
       "      <td>4.647</td>\n",
       "    </tr>\n",
       "    <tr>\n",
       "      <th>4</th>\n",
       "      <td>10411</td>\n",
       "      <td>4.647</td>\n",
       "    </tr>\n",
       "    <tr>\n",
       "      <th>...</th>\n",
       "      <td>...</td>\n",
       "      <td>...</td>\n",
       "    </tr>\n",
       "    <tr>\n",
       "      <th>6934</th>\n",
       "      <td>17341</td>\n",
       "      <td>4.647</td>\n",
       "    </tr>\n",
       "    <tr>\n",
       "      <th>6935</th>\n",
       "      <td>17342</td>\n",
       "      <td>4.647</td>\n",
       "    </tr>\n",
       "    <tr>\n",
       "      <th>6936</th>\n",
       "      <td>17343</td>\n",
       "      <td>4.647</td>\n",
       "    </tr>\n",
       "    <tr>\n",
       "      <th>6937</th>\n",
       "      <td>17344</td>\n",
       "      <td>4.647</td>\n",
       "    </tr>\n",
       "    <tr>\n",
       "      <th>6938</th>\n",
       "      <td>17345</td>\n",
       "      <td>4.647</td>\n",
       "    </tr>\n",
       "  </tbody>\n",
       "</table>\n",
       "<p>6939 rows × 2 columns</p>\n",
       "</div>"
      ],
      "text/plain": [
       "         id  Hardness\n",
       "0     10407     4.647\n",
       "1     10408     4.647\n",
       "2     10409     4.647\n",
       "3     10410     4.647\n",
       "4     10411     4.647\n",
       "...     ...       ...\n",
       "6934  17341     4.647\n",
       "6935  17342     4.647\n",
       "6936  17343     4.647\n",
       "6937  17344     4.647\n",
       "6938  17345     4.647\n",
       "\n",
       "[6939 rows x 2 columns]"
      ]
     },
     "execution_count": 20,
     "metadata": {},
     "output_type": "execute_result"
    }
   ],
   "source": [
    "sample_submission\n"
   ]
  },
  {
   "cell_type": "code",
   "execution_count": 21,
   "id": "bd038a28",
   "metadata": {
    "execution": {
     "iopub.execute_input": "2023-11-16T06:02:13.036613Z",
     "iopub.status.busy": "2023-11-16T06:02:13.036269Z",
     "iopub.status.idle": "2023-11-16T06:02:31.456282Z",
     "shell.execute_reply": "2023-11-16T06:02:31.455191Z"
    },
    "papermill": {
     "duration": 18.515045,
     "end_time": "2023-11-16T06:02:31.458896",
     "exception": false,
     "start_time": "2023-11-16T06:02:12.943851",
     "status": "completed"
    },
    "tags": []
   },
   "outputs": [
    {
     "name": "stdout",
     "output_type": "stream",
     "text": [
      "217/217 [==============================] - 0s 1ms/step\n"
     ]
    }
   ],
   "source": [
    "# sample_submission['Hardness'] = model.predict(test_dataset.drop(columns='id'))\n",
    "\n",
    "# sample_submission.to_csv('submission.csv', index=False)\n",
    "\n",
    "\n",
    "test_dataset['Hardness_pred'] = model_pre.predict(test_dataset.drop(columns='id'))\n",
    "test_dataset[\"Hardness\"] = model.predict(test_dataset.drop(columns='id'))\n",
    "sample_submission = test_dataset[['id', \"Hardness\"]]\n",
    "sample_submission.to_csv(\"submission.csv\", index=False)"
   ]
  },
  {
   "cell_type": "code",
   "execution_count": 22,
   "id": "d8af7f85",
   "metadata": {
    "execution": {
     "iopub.execute_input": "2023-11-16T06:02:31.655024Z",
     "iopub.status.busy": "2023-11-16T06:02:31.654137Z",
     "iopub.status.idle": "2023-11-16T06:02:31.665800Z",
     "shell.execute_reply": "2023-11-16T06:02:31.664824Z"
    },
    "papermill": {
     "duration": 0.106995,
     "end_time": "2023-11-16T06:02:31.667784",
     "exception": false,
     "start_time": "2023-11-16T06:02:31.560789",
     "status": "completed"
    },
    "tags": []
   },
   "outputs": [
    {
     "data": {
      "text/html": [
       "<div>\n",
       "<style scoped>\n",
       "    .dataframe tbody tr th:only-of-type {\n",
       "        vertical-align: middle;\n",
       "    }\n",
       "\n",
       "    .dataframe tbody tr th {\n",
       "        vertical-align: top;\n",
       "    }\n",
       "\n",
       "    .dataframe thead th {\n",
       "        text-align: right;\n",
       "    }\n",
       "</style>\n",
       "<table border=\"1\" class=\"dataframe\">\n",
       "  <thead>\n",
       "    <tr style=\"text-align: right;\">\n",
       "      <th></th>\n",
       "      <th>id</th>\n",
       "      <th>Hardness</th>\n",
       "    </tr>\n",
       "  </thead>\n",
       "  <tbody>\n",
       "    <tr>\n",
       "      <th>0</th>\n",
       "      <td>10407</td>\n",
       "      <td>2.826586</td>\n",
       "    </tr>\n",
       "    <tr>\n",
       "      <th>1</th>\n",
       "      <td>10408</td>\n",
       "      <td>2.297186</td>\n",
       "    </tr>\n",
       "    <tr>\n",
       "      <th>2</th>\n",
       "      <td>10409</td>\n",
       "      <td>5.838751</td>\n",
       "    </tr>\n",
       "    <tr>\n",
       "      <th>3</th>\n",
       "      <td>10410</td>\n",
       "      <td>4.511225</td>\n",
       "    </tr>\n",
       "    <tr>\n",
       "      <th>4</th>\n",
       "      <td>10411</td>\n",
       "      <td>5.727727</td>\n",
       "    </tr>\n",
       "    <tr>\n",
       "      <th>...</th>\n",
       "      <td>...</td>\n",
       "      <td>...</td>\n",
       "    </tr>\n",
       "    <tr>\n",
       "      <th>6934</th>\n",
       "      <td>17341</td>\n",
       "      <td>6.050049</td>\n",
       "    </tr>\n",
       "    <tr>\n",
       "      <th>6935</th>\n",
       "      <td>17342</td>\n",
       "      <td>4.731398</td>\n",
       "    </tr>\n",
       "    <tr>\n",
       "      <th>6936</th>\n",
       "      <td>17343</td>\n",
       "      <td>5.062833</td>\n",
       "    </tr>\n",
       "    <tr>\n",
       "      <th>6937</th>\n",
       "      <td>17344</td>\n",
       "      <td>5.278652</td>\n",
       "    </tr>\n",
       "    <tr>\n",
       "      <th>6938</th>\n",
       "      <td>17345</td>\n",
       "      <td>2.244637</td>\n",
       "    </tr>\n",
       "  </tbody>\n",
       "</table>\n",
       "<p>6939 rows × 2 columns</p>\n",
       "</div>"
      ],
      "text/plain": [
       "         id  Hardness\n",
       "0     10407  2.826586\n",
       "1     10408  2.297186\n",
       "2     10409  5.838751\n",
       "3     10410  4.511225\n",
       "4     10411  5.727727\n",
       "...     ...       ...\n",
       "6934  17341  6.050049\n",
       "6935  17342  4.731398\n",
       "6936  17343  5.062833\n",
       "6937  17344  5.278652\n",
       "6938  17345  2.244637\n",
       "\n",
       "[6939 rows x 2 columns]"
      ]
     },
     "execution_count": 22,
     "metadata": {},
     "output_type": "execute_result"
    }
   ],
   "source": [
    "sample_submission\n"
   ]
  }
 ],
 "metadata": {
  "kaggle": {
   "accelerator": "nvidiaTeslaT4",
   "dataSources": [
    {
     "databundleVersionId": 6989718,
     "sourceId": 60892,
     "sourceType": "competition"
    }
   ],
   "dockerImageVersionId": 30580,
   "isGpuEnabled": true,
   "isInternetEnabled": true,
   "language": "python",
   "sourceType": "notebook"
  },
  "kernelspec": {
   "display_name": "Python 3",
   "language": "python",
   "name": "python3"
  },
  "language_info": {
   "codemirror_mode": {
    "name": "ipython",
    "version": 3
   },
   "file_extension": ".py",
   "mimetype": "text/x-python",
   "name": "python",
   "nbconvert_exporter": "python",
   "pygments_lexer": "ipython3",
   "version": "3.10.12"
  },
  "papermill": {
   "default_parameters": {},
   "duration": 129.453081,
   "end_time": "2023-11-16T06:02:35.283151",
   "environment_variables": {},
   "exception": null,
   "input_path": "__notebook__.ipynb",
   "output_path": "__notebook__.ipynb",
   "parameters": {},
   "start_time": "2023-11-16T06:00:25.830070",
   "version": "2.4.0"
  }
 },
 "nbformat": 4,
 "nbformat_minor": 5
}
